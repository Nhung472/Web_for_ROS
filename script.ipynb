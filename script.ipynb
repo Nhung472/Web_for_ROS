{
 "cells": [
  {
   "cell_type": "markdown",
   "metadata": {},
   "source": [
    "I. Introduction"
   ]
  },
  {
   "cell_type": "markdown",
   "metadata": {},
   "source": [
    "1. Start rosbridge server"
   ]
  },
  {
   "cell_type": "code",
   "execution_count": null,
   "metadata": {},
   "outputs": [],
   "source": [
    "roslaunch course_web_dev_ros web.launch"
   ]
  },
  {
   "cell_type": "markdown",
   "metadata": {},
   "source": [
    "2. Get the ROSBridge address of the computer assigned to you"
   ]
  },
  {
   "cell_type": "code",
   "execution_count": null,
   "metadata": {},
   "outputs": [],
   "source": [
    "rosbridge_address"
   ]
  },
  {
   "cell_type": "markdown",
   "metadata": {},
   "source": [
    "3. Connect to Rosbridge using the form below\n"
   ]
  },
  {
   "cell_type": "markdown",
   "metadata": {},
   "source": [
    "Execute the cell below. You must have a web page generated there."
   ]
  },
  {
   "cell_type": "code",
   "execution_count": null,
   "metadata": {},
   "outputs": [],
   "source": [
    "%%HTML\n",
    "<div style=\"width:100%;\">\n",
    "<iframe src=\"https://s3.eu-west-1.amazonaws.com/readme.theconstructsim.com/__others__/index.html\" style=\"min-width:100%; height:800px; border:0\" />\n",
    "</div>"
   ]
  },
  {
   "cell_type": "markdown",
   "metadata": {},
   "source": [
    "Unit 1:   Setting up our development environment (Part 1)"
   ]
  },
  {
   "cell_type": "markdown",
   "metadata": {},
   "source": [
    "Topic 1.1   Creating and running a web page"
   ]
  },
  {
   "cell_type": "markdown",
   "metadata": {},
   "source": [
    "In this course, all webpages must be placed inside the folder ~/webpage_ws. We are going to create a new page for each unit example and unit exercise."
   ]
  },
  {
   "cell_type": "code",
   "execution_count": null,
   "metadata": {},
   "outputs": [],
   "source": [
    "cd ~/webpage_ws/unit_01"
   ]
  },
  {
   "cell_type": "code",
   "execution_count": null,
   "metadata": {},
   "outputs": [],
   "source": [
    "python -m SimpleHTTPServer 7000"
   ]
  },
  {
   "cell_type": "markdown",
   "metadata": {},
   "source": [
    "Open the webpage in a new tab of your web browser or even on a different device!\n",
    "In order to do so, you need the public address of our page. In a similar way as we did to find out the address of the rosbridge server, we have to do this for the website server. In a different web shell, execute the command below:"
   ]
  },
  {
   "cell_type": "code",
   "execution_count": null,
   "metadata": {},
   "outputs": [],
   "source": [
    "webpage_address"
   ]
  },
  {
   "cell_type": "markdown",
   "metadata": {},
   "source": [
    "Topic 1.2   Adding some styles to the page"
   ]
  },
  {
   "cell_type": "markdown",
   "metadata": {},
   "source": [
    "The first step to add some style is to add the library we are going to use.\n",
    "\n",
    "In order to do this, add to the <head> section of your index.html the following:"
   ]
  },
  {
   "cell_type": "code",
   "execution_count": null,
   "metadata": {},
   "outputs": [],
   "source": [
    "<link rel=\"stylesheet\" href=\"https://stackpath.bootstrapcdn.com/bootstrap/4.3.1/css/bootstrap.min.css\" integrity=\"sha384-ggOyR0iXCbMQv3Xipma34MD+dH/1fQ784/j6cY/iJTQUOhcWr7x9JvoRxT2MZw1T\" crossorigin=\"anonymous\">"
   ]
  },
  {
   "cell_type": "markdown",
   "metadata": {},
   "source": [
    "* Some div elements belong to the class container, which describes the behavior of having a block that fits the entire width of the page\n",
    "* grid system that allows us to define rows (we have a div using the class row). It defines an element that fills the entire width of a container. Inside a row, we have columns.\n",
    "eg: we created just 2 columns, but we defined the first one with [4] units (col-md-4) and the second with [8] units (col-md-8)\n",
    "\n",
    "The -md- means it will be applied to medium size pages. You can check the size definition below (taken from bootstrap page):\n",
    "- Extra small (xs): width is < 576px\n",
    "- Small (sm): width is ≥576px\n",
    "- Medium (md): width is ≥768px\n",
    "- Large (lg): width is ≥992px\n",
    "- Extra large (xl): ≥1200px"
   ]
  }
 ],
 "metadata": {
  "language_info": {
   "name": "python"
  }
 },
 "nbformat": 4,
 "nbformat_minor": 2
}
